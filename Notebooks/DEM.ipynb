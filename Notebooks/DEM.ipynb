{
 "cells": [
  {
   "cell_type": "code",
   "execution_count": 1,
   "metadata": {},
   "outputs": [],
   "source": [
    "%load_ext autoreload\n",
    "%autoreload 2"
   ]
  },
  {
   "cell_type": "code",
   "execution_count": 6,
   "metadata": {},
   "outputs": [],
   "source": [
    "import sys\n",
    "sys.path.append('../src')\n",
    "import numpy as np\n",
    "import matplotlib.pyplot as plt\n",
    "\n",
    "from dem import dem4geoid"
   ]
  },
  {
   "cell_type": "code",
   "execution_count": null,
   "metadata": {},
   "outputs": [],
   "source": [
    "dem = dem4geoid(bbox=[-4, 4, 2, 12], downloads_dir='downloads')\n",
    "dem"
   ]
  },
  {
   "cell_type": "code",
   "execution_count": null,
   "metadata": {},
   "outputs": [],
   "source": [
    "import os\n",
    "# os.chdir('..')\n",
    "# os.getcwd()"
   ]
  },
  {
   "cell_type": "code",
   "execution_count": null,
   "metadata": {},
   "outputs": [],
   "source": [
    "dem['z'].plot(cmap='terrain')\n",
    "plt.show()"
   ]
  },
  {
   "cell_type": "code",
   "execution_count": null,
   "metadata": {},
   "outputs": [],
   "source": [
    "import os\n",
    "import requests\n",
    "from tqdm import tqdm\n",
    "\n",
    "def download_srtm30plus(url=None, downloads_dir=None, bbox=None):\n",
    "    '''\n",
    "    Parameters\n",
    "    ----------\n",
    "    url           : url of the srtm30plus tile\n",
    "    downloads_dir : directory to download the file to\n",
    "    bbox          : bbox of the area of interest (to be provided if url is not provided)\n",
    "    \n",
    "    Returns\n",
    "    -------\n",
    "    fname         : Name of downloaded file\n",
    "    '''\n",
    "\n",
    "    if not url:\n",
    "        url = fetch_url(bbox=bbox)\n",
    "        \n",
    "    filename = url.split('/')[-1]\n",
    "    filepath = os.path.join(downloads_dir, filename) if downloads_dir else filename\n",
    "\n",
    "    # Check if the file already exists\n",
    "    if os.path.exists(filepath):\n",
    "        # Get the expected size of the file\n",
    "        response_head = requests.head(url, verify=False)\n",
    "        total_size = int(response_head.headers.get('content-length', 0))\n",
    "\n",
    "        # Check if the existing file size matches the expected size\n",
    "        if os.path.getsize(filepath) == total_size:\n",
    "            print(f'File {filename} already exists and is complete.')\n",
    "            return filename\n",
    "        else:\n",
    "            print(f'File {filename} already exists but is incomplete. Redownloading...')\n",
    "\n",
    "    if downloads_dir:\n",
    "        os.makedirs(downloads_dir, exist_ok=True)\n",
    "        print(f'Downloading {filename} to {downloads_dir} ...')\n",
    "    else:\n",
    "        print(f'Downloading {filename} to {os.getcwd()} ...')\n",
    "\n",
    "    response = requests.get(url, verify=False, stream=True)\n",
    "    total_size = int(response.headers.get('content-length', 0))\n",
    "\n",
    "    with open(filepath, 'wb') as f, tqdm(\n",
    "        desc=filename,\n",
    "        total=total_size,\n",
    "        unit='iB',\n",
    "        unit_scale=True,\n",
    "        unit_divisor=1024,\n",
    "    ) as pbar:\n",
    "        for data in response.iter_content(chunk_size=1024):\n",
    "            size = f.write(data)\n",
    "            pbar.update(size)\n",
    "\n",
    "    return filename\n"
   ]
  }
 ],
 "metadata": {
  "kernelspec": {
   "display_name": "geospatial",
   "language": "python",
   "name": "python3"
  },
  "language_info": {
   "codemirror_mode": {
    "name": "ipython",
    "version": 3
   },
   "file_extension": ".py",
   "mimetype": "text/x-python",
   "name": "python",
   "nbconvert_exporter": "python",
   "pygments_lexer": "ipython3",
   "version": "3.12.3"
  }
 },
 "nbformat": 4,
 "nbformat_minor": 2
}
