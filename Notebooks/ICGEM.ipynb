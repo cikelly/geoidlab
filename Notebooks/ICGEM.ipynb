{
 "cells": [
  {
   "cell_type": "code",
   "execution_count": 1,
   "metadata": {},
   "outputs": [],
   "source": [
    "%load_ext autoreload\n",
    "%autoreload 2"
   ]
  },
  {
   "cell_type": "code",
   "execution_count": 2,
   "metadata": {},
   "outputs": [],
   "source": [
    "import sys\n",
    "\n",
    "sys.path.append('../src')\n",
    "from icgem import download_ggm, read_icgem"
   ]
  },
  {
   "cell_type": "code",
   "execution_count": 3,
   "metadata": {},
   "outputs": [
    {
     "name": "stdout",
     "output_type": "stream",
     "text": [
      "Cannot verify completeness of GO_CONS_GCF_2_TIM_R6e.gfc due to connectivity issues. Using the existing file.\n",
      "\n"
     ]
    }
   ],
   "source": [
    "model = 'GO_CONS_GCF_2_TIM_R6e'\n",
    "# model = 'XGM2019e_2159'\n",
    "download_ggm(model_name=model)\n",
    "\n",
    "model = 'downloads/' + model"
   ]
  },
  {
   "cell_type": "markdown",
   "metadata": {},
   "source": [
    "Read GGM"
   ]
  },
  {
   "cell_type": "code",
   "execution_count": 4,
   "metadata": {},
   "outputs": [],
   "source": [
    "model = model + '.gfc'\n",
    "shc = read_icgem(model)"
   ]
  },
  {
   "cell_type": "code",
   "execution_count": 5,
   "metadata": {},
   "outputs": [
    {
     "name": "stdout",
     "output_type": "stream",
     "text": [
      "a          6378136.46\n",
      "nmax       300\n",
      "GM         398600441500000.0\n",
      "tide_sys   zero_tide\n"
     ]
    }
   ],
   "source": [
    "for key, value in shc.items():\n",
    "    if 'Cnm' in key or 'Snm' in key:\n",
    "        continue\n",
    "    print(f'{key:10}', value)"
   ]
  }
 ],
 "metadata": {
  "kernelspec": {
   "display_name": "geospatial",
   "language": "python",
   "name": "python3"
  },
  "language_info": {
   "codemirror_mode": {
    "name": "ipython",
    "version": 3
   },
   "file_extension": ".py",
   "mimetype": "text/x-python",
   "name": "python",
   "nbconvert_exporter": "python",
   "pygments_lexer": "ipython3",
   "version": "3.12.3"
  }
 },
 "nbformat": 4,
 "nbformat_minor": 2
}
