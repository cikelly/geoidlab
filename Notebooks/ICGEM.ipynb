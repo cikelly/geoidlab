{
 "cells": [
  {
   "cell_type": "code",
   "execution_count": 1,
   "metadata": {},
   "outputs": [],
   "source": [
    "%load_ext autoreload\n",
    "%autoreload 2"
   ]
  },
  {
   "cell_type": "code",
   "execution_count": 3,
   "metadata": {},
   "outputs": [],
   "source": [
    "from bs4 import BeautifulSoup\n",
    "import requests\n",
    "def download_ggm(model_name: str='GO_CONS_GCF_2_TIM_R6e'):\n",
    "    '''\n",
    "    Download static gravity model from ICGEM\n",
    "    \n",
    "    Parameters\n",
    "    ----------\n",
    "    model_name: (str) Name of global model\n",
    "    \n",
    "    Returns\n",
    "    -------\n",
    "    None\n",
    "    \n",
    "    Notes\n",
    "    -----\n",
    "    1. Automatically writes global model to file\n",
    "    '''\n",
    "    base_url = \"https://icgem.gfz-potsdam.de/tom_longtime\"\n",
    "    model_url = 'https://icgem.gfz-potsdam.de'\n",
    "    response = requests.get(base_url)\n",
    "    \n",
    "    if response.status_code == 200:\n",
    "        soup = BeautifulSoup(response.text, 'html.parser')\n",
    "        # Find the URL that corresponds to the model_name\n",
    "        for link in soup.find_all('a'):\n",
    "            if model_name in link.get('href') and 'gfc' in link.get('href'):\n",
    "                model_url += link.get('href')\n",
    "                response = requests.get(model_url)\n",
    "                with open(model_name+'.gfc', 'w') as f:\n",
    "                    f.writelines(response.text)\n",
    "    return"
   ]
  },
  {
   "cell_type": "code",
   "execution_count": 5,
   "metadata": {},
   "outputs": [],
   "source": [
    "from bs4 import BeautifulSoup\n",
    "import requests\n",
    "from tqdm import tqdm\n",
    "\n",
    "def download_ggm(model_name: str='GO_CONS_GCF_2_TIM_R6e'):\n",
    "    '''\n",
    "    Download static gravity model from ICGEM\n",
    "    \n",
    "    Parameters\n",
    "    ----------\n",
    "    model_name: (str) Name of global model\n",
    "    \n",
    "    Returns\n",
    "    -------\n",
    "    None\n",
    "    \n",
    "    Notes\n",
    "    -----\n",
    "    1. Automatically writes global model to file\n",
    "    '''\n",
    "    base_url = \"https://icgem.gfz-potsdam.de/tom_longtime\"\n",
    "    model_url = 'https://icgem.gfz-potsdam.de'\n",
    "    response = requests.get(base_url)\n",
    "    \n",
    "    if response.status_code == 200:\n",
    "        soup = BeautifulSoup(response.text, 'html.parser')\n",
    "        # Find the URL that corresponds to the model_name\n",
    "        for link in soup.find_all('a'):\n",
    "            if model_name in link.get('href') and 'gfc' in link.get('href'):\n",
    "                model_url += link.get('href')\n",
    "                response = requests.get(model_url, stream=True)\n",
    "                total_size = int(response.headers.get('content-length', 0))\n",
    "                block_size = 1024 #1 Kibibyte\n",
    "                t=tqdm(total=total_size, unit='iB', unit_scale=True)\n",
    "                with open(model_name+'.gfc', 'wb') as f:\n",
    "                    for data in response.iter_content(block_size):\n",
    "                        t.update(len(data))\n",
    "                        f.write(data)\n",
    "                t.close()\n",
    "                if total_size != 0 and t.n != total_size:\n",
    "                    print(\"ERROR, something went wrong\")\n",
    "    return\n"
   ]
  },
  {
   "cell_type": "code",
   "execution_count": 8,
   "metadata": {},
   "outputs": [
    {
     "name": "stderr",
     "output_type": "stream",
     "text": [
      "100%|██████████| 5.32M/5.32M [00:21<00:00, 246kiB/s]"
     ]
    },
    {
     "name": "stdout",
     "output_type": "stream",
     "text": [
      "Downloaded model saved to downloads/GO_CONS_GCF_2_TIM_R6e.gfc\n"
     ]
    },
    {
     "name": "stderr",
     "output_type": "stream",
     "text": [
      "\n"
     ]
    }
   ],
   "source": [
    "import requests\n",
    "from bs4 import BeautifulSoup\n",
    "from tqdm import tqdm\n",
    "import os\n",
    "\n",
    "def download_ggm(model_name: str = 'GO_CONS_GCF_2_TIM_R6e'):\n",
    "    '''\n",
    "    Download static gravity model from ICGEM\n",
    "    \n",
    "    Parameters\n",
    "    ----------\n",
    "    model_name: (str) Name of global model\n",
    "    \n",
    "    Returns\n",
    "    -------\n",
    "    None\n",
    "    \n",
    "    Notes\n",
    "    -----\n",
    "    1. Automatically writes global model to file\n",
    "    '''\n",
    "    base_url = \"https://icgem.gfz-potsdam.de/tom_longtime\"\n",
    "    model_url_prefix = 'https://icgem.gfz-potsdam.de'\n",
    "\n",
    "    try:\n",
    "        response = requests.get(base_url)\n",
    "        response.raise_for_status()  # Raise an HTTPError for bad responses (4xx and 5xx)\n",
    "    except requests.RequestException as e:\n",
    "        print(f\"Error fetching base URL: {e}\")\n",
    "        return\n",
    "\n",
    "    soup = BeautifulSoup(response.text, 'html.parser')\n",
    "    \n",
    "    model_url = None\n",
    "    for link in soup.find_all('a', href=True):\n",
    "        if model_name in link['href'] and 'gfc' in link['href']:\n",
    "            model_url = model_url_prefix + link['href']\n",
    "            break\n",
    "\n",
    "    if not model_url:\n",
    "        print(f\"Model {model_name} not found.\")\n",
    "        return\n",
    "\n",
    "    try:\n",
    "        response = requests.get(model_url, stream=True)\n",
    "        response.raise_for_status()\n",
    "    except requests.RequestException as e:\n",
    "        print(f\"Error fetching model URL: {e}\")\n",
    "        return\n",
    "\n",
    "    total_size = int(response.headers.get('content-length', 0))\n",
    "    block_size = 1024  # 1 Kibibyte\n",
    "\n",
    "    # Ensure output directory exists\n",
    "    os.makedirs('downloads', exist_ok=True)\n",
    "    file_path = os.path.join('downloads', model_name + '.gfc')\n",
    "\n",
    "    with tqdm(total=total_size, unit='iB', unit_scale=True) as t:\n",
    "        try:\n",
    "            with open(file_path, 'wb') as f:\n",
    "                for data in response.iter_content(block_size):\n",
    "                    t.update(len(data))\n",
    "                    f.write(data)\n",
    "            if total_size != 0 and t.n != total_size:\n",
    "                print(\"ERROR, something went wrong during the download.\")\n",
    "        except Exception as e:\n",
    "            print(f\"Error during file write: {e}\")\n",
    "            # Optionally, remove partially downloaded file if an error occurs\n",
    "            if os.path.exists(file_path):\n",
    "                os.remove(file_path)\n",
    "\n",
    "    print(f\"Downloaded model saved to {file_path}\")\n"
   ]
  },
  {
   "cell_type": "code",
   "execution_count": 7,
   "metadata": {},
   "outputs": [
    {
     "name": "stderr",
     "output_type": "stream",
     "text": [
      "100%|██████████| 5.32M/5.32M [00:35<00:00, 150kiB/s] \n"
     ]
    }
   ],
   "source": [
    "download_ggm()"
   ]
  },
  {
   "cell_type": "code",
   "execution_count": null,
   "metadata": {},
   "outputs": [],
   "source": []
  }
 ],
 "metadata": {
  "kernelspec": {
   "display_name": "geospatial",
   "language": "python",
   "name": "python3"
  },
  "language_info": {
   "codemirror_mode": {
    "name": "ipython",
    "version": 3
   },
   "file_extension": ".py",
   "mimetype": "text/x-python",
   "name": "python",
   "nbconvert_exporter": "python",
   "pygments_lexer": "ipython3",
   "version": "3.12.4"
  }
 },
 "nbformat": 4,
 "nbformat_minor": 2
}
